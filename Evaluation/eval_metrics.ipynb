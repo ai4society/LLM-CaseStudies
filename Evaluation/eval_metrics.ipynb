{
 "cells": [
  {
   "cell_type": "code",
   "execution_count": null,
   "metadata": {},
   "outputs": [],
   "source": [
    "import numpy as np\n",
    "import pandas as pd\n",
    "import textdistance"
   ]
  },
  {
   "cell_type": "code",
   "execution_count": null,
   "metadata": {},
   "outputs": [],
   "source": [
    "# Helper functions\n",
    "def jaccard_distance(str1, str2):\n",
    "    set1 = set(str1.split())\n",
    "    set2 = set(str2.split())\n",
    "    return 1 - textdistance.jaccard.similarity(set1, set2)\n",
    "\n",
    "# Application\n",
    "def compute_jaccard(data_path, true_col, pred_col):\n",
    "    data = pd.read_csv(data_path)\n",
    "    data[\"jaccard_dist\"] = data.apply(lambda row: jaccard_distance(row[\"{}\".format(true_col)], row[\"{}\".format(pred_col)]), axis=1)\n",
    "    \n",
    "    return np.mean(data[\"jaccard_dist\"])"
   ]
  }
 ],
 "metadata": {
  "language_info": {
   "name": "python"
  }
 },
 "nbformat": 4,
 "nbformat_minor": 2
}
